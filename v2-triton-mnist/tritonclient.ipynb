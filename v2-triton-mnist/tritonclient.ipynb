{
 "cells": [
  {
   "cell_type": "markdown",
   "metadata": {},
   "source": [
    "# Triton Client\n",
    "\n",
    "Note: just exploratory code"
   ]
  },
  {
   "cell_type": "markdown",
   "metadata": {},
   "source": [
    "## Http Client"
   ]
  },
  {
   "cell_type": "code",
   "execution_count": null,
   "metadata": {},
   "outputs": [],
   "source": [
    "import tritonclient.http as httpclient\n",
    "\n",
    "# # Note: not all methods available via Executor\n",
    "# url = \"localhost:8003/seldon/seldon/v2-triton-mnist\"\n",
    "url = \"localhost:8000\"\n",
    "\n",
    "http_triton_client = httpclient.InferenceServerClient(\n",
    "    url=url,\n",
    "    verbose=True,\n",
    "    concurrency=1,\n",
    ")"
   ]
  },
  {
   "cell_type": "code",
   "execution_count": null,
   "metadata": {},
   "outputs": [],
   "source": [
    "print(\"Is Server Ready:\", http_triton_client.is_server_ready())\n",
    "print(\"Is Server Live:\", http_triton_client.is_server_live())\n",
    "print(\"Server Metadata:\", http_triton_client.get_server_metadata())\n",
    "print(\"MNIST model ready:\", http_triton_client.is_model_ready(\"mnist\"))"
   ]
  },
  {
   "cell_type": "code",
   "execution_count": null,
   "metadata": {},
   "outputs": [],
   "source": [
    "print(http_triton_client.get_model_metadata(\"mnist\"))"
   ]
  },
  {
   "cell_type": "code",
   "execution_count": null,
   "metadata": {},
   "outputs": [],
   "source": [
    "# print(http_triton_client.get_model_config(\"mnist\"))"
   ]
  },
  {
   "cell_type": "code",
   "execution_count": null,
   "metadata": {},
   "outputs": [],
   "source": [
    "import numpy as np\n",
    "\n",
    "binary_data = False\n",
    "\n",
    "inputs = [httpclient.InferInput(\"conv2d_input\", (5, 28, 28, 1), \"FP32\")]\n",
    "inputs[0].set_data_from_numpy(np.random.rand(5, 28, 28, 1).astype(\"float32\"), binary_data=binary_data)\n",
    "outputs = []\n",
    "# outputs = [httpclient.InferRequestedOutput(\"dense_1\", binary_data=binary_data)]\n",
    "\n",
    "\n",
    "result = http_triton_client.infer(\"mnist\", inputs, outputs=outputs)\n",
    "result.as_numpy(\"dense_1\")"
   ]
  },
  {
   "cell_type": "markdown",
   "metadata": {},
   "source": [
    "## Grpc Client"
   ]
  },
  {
   "cell_type": "code",
   "execution_count": null,
   "metadata": {},
   "outputs": [],
   "source": [
    "import tritonclient.grpc as grpcclient\n",
    "\n",
    "# # Note: not all methods available via Executor\n",
    "# headers = {\"seldon\": \"v2-triton-mnist\", \"namespace\": \"seldon\"}\n",
    "# url = \"localhost:8003\"\n",
    "\n",
    "url = \"localhost:8001\"\n",
    "headers = dict()\n",
    "\n",
    "grpc_triton_client = grpcclient.InferenceServerClient(\n",
    "    url=url,\n",
    "    verbose=False,\n",
    ")"
   ]
  },
  {
   "cell_type": "code",
   "execution_count": null,
   "metadata": {},
   "outputs": [],
   "source": [
    "print(\"Is Server Ready:\", grpc_triton_client.is_server_ready(headers=headers))\n",
    "print(\"Is Server Live:\", grpc_triton_client.is_server_live(headers=headers))\n",
    "grpc_triton_client.get_server_metadata(headers=headers)"
   ]
  },
  {
   "cell_type": "code",
   "execution_count": null,
   "metadata": {},
   "outputs": [],
   "source": [
    "\n",
    "print(\"MNIST model ready:\", grpc_triton_client.is_model_ready(\"mnist\", headers=headers))"
   ]
  },
  {
   "cell_type": "code",
   "execution_count": null,
   "metadata": {},
   "outputs": [],
   "source": [
    "grpc_triton_client.get_model_metadata(\"mnist\", headers=headers)"
   ]
  },
  {
   "cell_type": "code",
   "execution_count": null,
   "metadata": {},
   "outputs": [],
   "source": [
    "import numpy as np\n",
    "\n",
    "inputs = [grpcclient.InferInput(\"conv2d_input\", (5, 28, 28, 1), \"FP32\")]\n",
    "inputs[0].set_data_from_numpy(np.random.rand(5, 28, 28, 1).astype(\"float32\"))\n",
    "outputs = [grpcclient.InferRequestedOutput(\"dense_1\")]\n",
    "\n",
    "\n",
    "result = grpc_triton_client.infer(\"mnist\", inputs, outputs=outputs, headers=headers)\n",
    "result.as_numpy(\"dense_1\")"
   ]
  }
 ],
 "metadata": {
  "kernelspec": {
   "display_name": "Python 3.8.13 ('tensorflow')",
   "language": "python",
   "name": "python3"
  },
  "language_info": {
   "codemirror_mode": {
    "name": "ipython",
    "version": 3
   },
   "file_extension": ".py",
   "mimetype": "text/x-python",
   "name": "python",
   "nbconvert_exporter": "python",
   "pygments_lexer": "ipython3",
   "version": "3.8.13"
  },
  "vscode": {
   "interpreter": {
    "hash": "f90d0a8b54f81c3642b2ee3336e1de55986a3a982587eefc0621499dbdd4a3fd"
   }
  }
 },
 "nbformat": 4,
 "nbformat_minor": 2
}
