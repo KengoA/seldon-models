{
 "cells": [
  {
   "cell_type": "code",
   "execution_count": null,
   "metadata": {},
   "outputs": [],
   "source": [
    "from keras.datasets import mnist\n",
    "from keras.utils import to_categorical\n",
    "\n",
    "import matplotlib.pyplot as plt\n",
    "import numpy as np\n",
    "import requests"
   ]
  },
  {
   "cell_type": "markdown",
   "metadata": {},
   "source": [
    "## Test requests"
   ]
  },
  {
   "cell_type": "code",
   "execution_count": null,
   "metadata": {},
   "outputs": [],
   "source": [
    "URL = \"http://localhost:8003/seldon/seldon/v2-triton-mnist\"\n",
    "\n",
    "\n",
    "def predict(data):\n",
    "    data = {\n",
    "        \"inputs\": [\n",
    "            {\n",
    "                \"name\": \"conv2d_input\",\n",
    "                \"data\": data.tolist(),\n",
    "                \"datatype\": \"FP32\",\n",
    "                \"shape\": data.shape,\n",
    "            }\n",
    "        ]\n",
    "    }\n",
    "\n",
    "    r = requests.post(f\"{URL}/v2/models/mnist/infer\", json=data)\n",
    "    predictions = np.array(r.json()[\"outputs\"][0][\"data\"]).reshape(\n",
    "        r.json()[\"outputs\"][0][\"shape\"]\n",
    "    )\n",
    "    output = [np.argmax(x) for x in predictions]\n",
    "    return output\n"
   ]
  },
  {
   "cell_type": "code",
   "execution_count": null,
   "metadata": {},
   "outputs": [],
   "source": [
    "(_, _), (X_test, y_test) = mnist.load_data()\n",
    "\n",
    "X_test = X_test.reshape(-1, 28, 28, 1)\n",
    "X_test = X_test.astype(\"float32\")\n",
    "X_test /= 255\n",
    "\n",
    "Y_test = to_categorical(y_test, 10)"
   ]
  },
  {
   "cell_type": "code",
   "execution_count": null,
   "metadata": {},
   "outputs": [],
   "source": [
    "predictions = predict(X_test[:5])\n",
    "fig, axs = plt.subplots(1, 5, figsize=(15, 3))\n",
    "\n",
    "for i in range(5):\n",
    "    axs[i].imshow(X_test[i, :, :, 0], cmap=\"binary\")\n",
    "    axs[i].set_title(\"{} - should be {}\".format(predictions[i], np.argmax(Y_test[i])))"
   ]
  },
  {
   "cell_type": "markdown",
   "metadata": {},
   "source": [
    "## Test Triton Client"
   ]
  },
  {
   "cell_type": "code",
   "execution_count": null,
   "metadata": {},
   "outputs": [],
   "source": [
    "import tritonclient.http as httpclient\n",
    "\n",
    "url = \"localhost:8003/seldon/seldon/v2-triton-mnist\"\n",
    "\n",
    "triton_client = httpclient.InferenceServerClient(\n",
    "    url=url,\n",
    "    verbose=False,\n",
    "    concurrency=1,\n",
    ")"
   ]
  },
  {
   "cell_type": "code",
   "execution_count": null,
   "metadata": {},
   "outputs": [],
   "source": [
    "binary_data = False\n",
    "\n",
    "inputs = [httpclient.InferInput(\"conv2d_input\", (5, 28, 28, 1), \"FP32\")]\n",
    "inputs[0].set_data_from_numpy(X_test[:5], binary_data=binary_data)\n",
    "outputs = [httpclient.InferRequestedOutput(\"dense_1\", binary_data=binary_data)]\n",
    "\n",
    "result = triton_client.infer(\"mnist\", inputs, outputs=outputs)\n",
    "predictions = [np.argmax(x) for x in result.as_numpy(\"dense_1\")]\n",
    "\n",
    "fig, axs = plt.subplots(1, 5, figsize=(15, 3))\n",
    "\n",
    "for i in range(5):\n",
    "    axs[i].imshow(X_test[i, :, :, 0], cmap=\"binary\")\n",
    "    axs[i].set_title(\"{} - should be {}\".format(predictions[i], np.argmax(Y_test[i])))"
   ]
  }
 ],
 "metadata": {
  "kernelspec": {
   "display_name": "Python 3.8.13 ('tensorflow')",
   "language": "python",
   "name": "python3"
  },
  "language_info": {
   "codemirror_mode": {
    "name": "ipython",
    "version": 3
   },
   "file_extension": ".py",
   "mimetype": "text/x-python",
   "name": "python",
   "nbconvert_exporter": "python",
   "pygments_lexer": "ipython3",
   "version": "3.8.13"
  },
  "vscode": {
   "interpreter": {
    "hash": "f90d0a8b54f81c3642b2ee3336e1de55986a3a982587eefc0621499dbdd4a3fd"
   }
  }
 },
 "nbformat": 4,
 "nbformat_minor": 2
}
