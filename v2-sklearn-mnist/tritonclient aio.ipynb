{
 "cells": [
  {
   "cell_type": "markdown",
   "metadata": {},
   "source": [
    "# Triton Client Examples"
   ]
  },
  {
   "cell_type": "markdown",
   "metadata": {},
   "source": [
    "## Http Client"
   ]
  },
  {
   "cell_type": "code",
   "execution_count": null,
   "metadata": {},
   "outputs": [],
   "source": [
    "import tritonclient.http.aio as httpclient\n",
    "\n",
    "# url = \"localhost:8003/seldon/seldon/v2-sklearn-mnist\"\n",
    "url = \"localhost:8080\"\n",
    "\n",
    "http_triton_client = httpclient.InferenceServerClient(\n",
    "    url=url,\n",
    "    verbose=False,\n",
    "    conn_limit=1,\n",
    ")"
   ]
  },
  {
   "cell_type": "code",
   "execution_count": null,
   "metadata": {},
   "outputs": [],
   "source": [
    "print(\"Is Server Ready:\", await http_triton_client.is_server_ready())\n",
    "print(\"Is Server Live:\", await http_triton_client.is_server_live())\n",
    "print(\"Server Metadata:\", await http_triton_client.get_server_metadata())\n",
    "print(\"MNIST SVM model ready:\", await  http_triton_client.is_model_ready(\"mnist-svm\"))"
   ]
  },
  {
   "cell_type": "code",
   "execution_count": null,
   "metadata": {},
   "outputs": [],
   "source": [
    "print(await http_triton_client.get_model_metadata(\"mnist-svm\"))"
   ]
  },
  {
   "cell_type": "code",
   "execution_count": null,
   "metadata": {},
   "outputs": [],
   "source": [
    "# # Not implemented currently\n",
    "# print(http_triton_client.get_model_config(\"mnist-svm\"))"
   ]
  },
  {
   "cell_type": "code",
   "execution_count": null,
   "metadata": {},
   "outputs": [],
   "source": [
    "import numpy as np\n",
    "\n",
    "binary_data = False\n",
    "\n",
    "inputs = [httpclient.InferInput(\"input\", (5, 8, 8), \"FP32\")]\n",
    "inputs[0].set_data_from_numpy(np.random.rand(5, 8, 8).astype(\"float32\"), binary_data=binary_data)\n",
    "outputs = [httpclient.InferRequestedOutput(\"predict\", binary_data=binary_data)]"
   ]
  },
  {
   "cell_type": "code",
   "execution_count": null,
   "metadata": {},
   "outputs": [],
   "source": [
    "headers = {\"content-type\": \"application/json\"}\n",
    "result = await http_triton_client.infer(\"mnist-svm\", inputs, outputs=outputs, headers=headers)\n",
    "result.as_numpy(\"predict\")"
   ]
  }
 ],
 "metadata": {
  "kernelspec": {
   "display_name": "Python 3.8.13 ('mlserver')",
   "language": "python",
   "name": "python3"
  },
  "language_info": {
   "codemirror_mode": {
    "name": "ipython",
    "version": 3
   },
   "file_extension": ".py",
   "mimetype": "text/x-python",
   "name": "python",
   "nbconvert_exporter": "python",
   "pygments_lexer": "ipython3",
   "version": "3.8.13"
  },
  "vscode": {
   "interpreter": {
    "hash": "c4e570c19e0cdd434b9bb4859a5376325b8a44788bd906fc89c2a4a1e1da5ea5"
   }
  }
 },
 "nbformat": 4,
 "nbformat_minor": 2
}
