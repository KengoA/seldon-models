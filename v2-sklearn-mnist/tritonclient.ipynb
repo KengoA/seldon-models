{
 "cells": [
  {
   "cell_type": "markdown",
   "metadata": {},
   "source": [
    "# Triton Client Examples"
   ]
  },
  {
   "cell_type": "markdown",
   "metadata": {},
   "source": [
    "## Http Client"
   ]
  },
  {
   "cell_type": "code",
   "execution_count": 1,
   "metadata": {},
   "outputs": [],
   "source": [
    "import tritonclient.http as httpclient\n",
    "\n",
    "# url = \"localhost:8003/seldon/seldon/v2-sklearn-mnist\"\n",
    "url = \"localhost:8080\"\n",
    "\n",
    "http_triton_client = httpclient.InferenceServerClient(\n",
    "    url=url,\n",
    "    verbose=False,\n",
    "    concurrency=1,\n",
    ")"
   ]
  },
  {
   "cell_type": "code",
   "execution_count": 2,
   "metadata": {},
   "outputs": [
    {
     "name": "stdout",
     "output_type": "stream",
     "text": [
      "Is Server Ready: True\n",
      "Is Server Live: True\n",
      "Server Metadata: {'name': 'mlserver', 'version': '1.1.0', 'extensions': []}\n",
      "MNIST SVM model ready: True\n"
     ]
    }
   ],
   "source": [
    "print(\"Is Server Ready:\", http_triton_client.is_server_ready())\n",
    "print(\"Is Server Live:\", http_triton_client.is_server_live())\n",
    "print(\"Server Metadata:\", http_triton_client.get_server_metadata())\n",
    "print(\"MNIST SVM model ready:\", http_triton_client.is_model_ready(\"mnist-svm\"))"
   ]
  },
  {
   "cell_type": "code",
   "execution_count": 3,
   "metadata": {},
   "outputs": [
    {
     "name": "stdout",
     "output_type": "stream",
     "text": [
      "{'name': 'mnist-svm', 'versions': [], 'platform': 'mlserver_sklearn.SKLearnModel', 'inputs': [{'name': 'input', 'datatype': 'FP32', 'shape': [-1, 8, 8], 'parameters': None}], 'outputs': [{'name': 'predict', 'datatype': 'INT64', 'shape': [-1], 'parameters': None}], 'parameters': {'content_type': None, 'headers': None}}\n"
     ]
    }
   ],
   "source": [
    "print(http_triton_client.get_model_metadata(\"mnist-svm\"))"
   ]
  },
  {
   "cell_type": "code",
   "execution_count": 4,
   "metadata": {},
   "outputs": [],
   "source": [
    "# # Not implemented currently\n",
    "# print(http_triton_client.get_model_config(\"mnist-svm\"))"
   ]
  },
  {
   "cell_type": "code",
   "execution_count": 5,
   "metadata": {},
   "outputs": [],
   "source": [
    "import numpy as np\n",
    "\n",
    "binary_data = False\n",
    "\n",
    "inputs = [httpclient.InferInput(\"input\", (5, 8, 8), \"FP32\")]\n",
    "inputs[0].set_data_from_numpy(np.random.rand(5, 8, 8).astype(\"float32\"), binary_data=binary_data)\n",
    "outputs = [httpclient.InferRequestedOutput(\"predict\", binary_data=binary_data)]"
   ]
  },
  {
   "cell_type": "code",
   "execution_count": 6,
   "metadata": {},
   "outputs": [
    {
     "data": {
      "text/plain": [
       "array([9, 9, 9, 9, 9])"
      ]
     },
     "execution_count": 6,
     "metadata": {},
     "output_type": "execute_result"
    }
   ],
   "source": [
    "result = http_triton_client.infer(\"mnist-svm\", inputs, outputs=outputs)\n",
    "result.as_numpy(\"predict\")"
   ]
  },
  {
   "cell_type": "markdown",
   "metadata": {},
   "source": [
    "## Grpc Client"
   ]
  },
  {
   "cell_type": "code",
   "execution_count": 7,
   "metadata": {},
   "outputs": [],
   "source": [
    "import tritonclient.grpc as grpcclient\n",
    "\n",
    "# url = \"localhost:8003/seldon/seldon/v2-triton-mnist\"\n",
    "url = \"localhost:8081\"\n",
    "\n",
    "grpc_triton_client = grpcclient.InferenceServerClient(\n",
    "    url=url,\n",
    "    verbose=False,\n",
    ")"
   ]
  },
  {
   "cell_type": "code",
   "execution_count": 8,
   "metadata": {},
   "outputs": [
    {
     "name": "stdout",
     "output_type": "stream",
     "text": [
      "Is Server Ready: True\n",
      "Is Server Live: True\n"
     ]
    },
    {
     "data": {
      "text/plain": [
       "name: \"mlserver\"\n",
       "version: \"1.1.0\""
      ]
     },
     "execution_count": 8,
     "metadata": {},
     "output_type": "execute_result"
    }
   ],
   "source": [
    "print(\"Is Server Ready:\", grpc_triton_client.is_server_ready())\n",
    "print(\"Is Server Live:\", grpc_triton_client.is_server_live())\n",
    "grpc_triton_client.get_server_metadata()"
   ]
  },
  {
   "cell_type": "code",
   "execution_count": 9,
   "metadata": {},
   "outputs": [
    {
     "data": {
      "text/plain": [
       "name: \"mnist-svm\"\n",
       "platform: \"mlserver_sklearn.SKLearnModel\"\n",
       "inputs {\n",
       "  name: \"input\"\n",
       "  datatype: \"FP32\"\n",
       "  shape: -1\n",
       "  shape: 8\n",
       "  shape: 8\n",
       "}\n",
       "outputs {\n",
       "  name: \"predict\"\n",
       "  datatype: \"INT64\"\n",
       "  shape: -1\n",
       "}"
      ]
     },
     "execution_count": 9,
     "metadata": {},
     "output_type": "execute_result"
    }
   ],
   "source": [
    "grpc_triton_client.get_model_metadata(\"mnist-svm\")"
   ]
  },
  {
   "cell_type": "code",
   "execution_count": 10,
   "metadata": {},
   "outputs": [
    {
     "name": "stdout",
     "output_type": "stream",
     "text": [
      "MNIST SVM model ready: True\n"
     ]
    }
   ],
   "source": [
    "\n",
    "print(\"MNIST SVM model ready:\", grpc_triton_client.is_model_ready(\"mnist-svm\"))"
   ]
  },
  {
   "cell_type": "code",
   "execution_count": 11,
   "metadata": {},
   "outputs": [],
   "source": [
    "# # Will not work until MLServer implements raw_input_contents for grpc\n",
    "\n",
    "# import numpy as np\n",
    "\n",
    "# inputs = [grpcclient.InferInput(\"input\", (5, 8, 8), \"FP32\")]\n",
    "# inputs[0].set_data_from_numpy(np.random.rand(5, 8, 8).astype(\"float32\"))\n",
    "# outputs = [grpcclient.InferRequestedOutput(\"predict\")]\n",
    "\n",
    "\n",
    "# result = grpc_triton_client.infer(\"mnist-svm\", inputs, outputs=outputs)\n",
    "# result.as_numpy(\"predict\")"
   ]
  }
 ],
 "metadata": {
  "kernelspec": {
   "display_name": "Python 3.8.13 ('mlserver')",
   "language": "python",
   "name": "python3"
  },
  "language_info": {
   "codemirror_mode": {
    "name": "ipython",
    "version": 3
   },
   "file_extension": ".py",
   "mimetype": "text/x-python",
   "name": "python",
   "nbconvert_exporter": "python",
   "pygments_lexer": "ipython3",
   "version": "3.8.13"
  },
  "orig_nbformat": 4,
  "vscode": {
   "interpreter": {
    "hash": "c4e570c19e0cdd434b9bb4859a5376325b8a44788bd906fc89c2a4a1e1da5ea5"
   }
  }
 },
 "nbformat": 4,
 "nbformat_minor": 2
}
